{
 "cells": [
  {
   "cell_type": "markdown",
   "metadata": {},
   "source": [
    "Black-Scholes model"
   ]
  },
  {
   "cell_type": "code",
   "execution_count": 1,
   "metadata": {},
   "outputs": [
    {
     "name": "stdout",
     "output_type": "stream",
     "text": [
      "Call Price: 9.1399\n",
      "Put Price: 17.7586\n"
     ]
    }
   ],
   "source": [
    "from scipy.stats import norm\n",
    "from scipy.stats import t\n",
    "import numpy as np\n",
    "import math\n",
    "\n",
    "S = 100\n",
    "K = 110\n",
    "T = 0.4\n",
    "r = 0.05\n",
    "q = 0.02\n",
    "sigma = 0.5\n",
    "\n",
    "\n",
    "def black_scholes(S, K, T, r, q, sigma, option='call'):\n",
    "    d1 = (math.log(S / K) + (r - q + 0.5 * sigma ** 2) * T) / (sigma * math.sqrt(T))\n",
    "    d2 = (math.log(S / K) + (r - q - 0.5 * sigma ** 2) * T) / (sigma * math.sqrt(T))\n",
    "    \n",
    "    if option == 'call':\n",
    "        return S * math.exp(-q*T) * norm.cdf(d1) - K * math.exp(-r * T) * norm.cdf(d2)\n",
    "    if option == 'put':\n",
    "        return K * math.exp(-r * T) * norm.cdf(-d2) - S * norm.cdf(-d1) * math.exp(-q*T)\n",
    "    \n",
    "call_price = black_scholes(S,K,T,r,q,sigma,option=\"call\")\n",
    "put_price = black_scholes(S,K,T,r,q,sigma,option=\"put\")\n",
    "\n",
    "print(f\"Call Price: {call_price:.4f}\")\n",
    "print(f\"Put Price: {put_price:.4f}\")"
   ]
  },
  {
   "cell_type": "markdown",
   "metadata": {},
   "source": [
    "Monte-Carlo's simulation"
   ]
  },
  {
   "cell_type": "code",
   "execution_count": 2,
   "metadata": {},
   "outputs": [
    {
     "name": "stdout",
     "output_type": "stream",
     "text": [
      "mean of call: 9.1259 std of call: 0.2283 CI of call: [8.6693, 9.5824]\n",
      "mean of put: 17.7443 std of call: 0.1434 CI of call: [17.4576, 18.031]\n"
     ]
    }
   ],
   "source": [
    "import numpy as np\n",
    "import math\n",
    "from scipy.stats import norm\n",
    "\n",
    "n_simulations = 10000\n",
    "n_steps = 20\n",
    "\n",
    "def monte_carlo(S, K, T, r, q, sigma, n_simulations, n_steps, option = 'call'):\n",
    "    if option == \"call\":\n",
    "        call_prices = []\n",
    "        for _ in range(n_steps):\n",
    "            rn = np.random.normal(0, 1, n_simulations)\n",
    "            ST = S * np.exp((r - q - 0.5 * sigma ** 2) * T + sigma * np.sqrt(T) * rn)\n",
    "            payoff = np.exp(-r*T) * np.maximum((ST - K), 0)\n",
    "            average = np.mean(payoff)\n",
    "            call_prices.append(average)            \n",
    "        mean = np.mean(call_prices)\n",
    "        std = np.std(call_prices)\n",
    "        upper = np.round(mean + 2 * std,4)\n",
    "        lower = np.round(mean - 2 * std,4) \n",
    "        CI_call = [lower,upper]\n",
    "        return mean,std,CI_call\n",
    "\n",
    "    if option == \"put\":\n",
    "        put_prices = []\n",
    "        for _ in range(n_steps):\n",
    "            rn = np.random.normal(0, 1, n_simulations)\n",
    "            ST = S * np.exp((r - q - 0.5 * sigma ** 2) * T + sigma * np.sqrt(T) * rn)\n",
    "            payoff = np.exp(-r*T) * np.maximum((K-ST), 0)\n",
    "            average = np.mean(payoff)\n",
    "            put_prices.append(average)            \n",
    "        mean = np.mean(put_prices)\n",
    "        std = np.std(put_prices)\n",
    "        upper = np.round(mean + 2 * std,4)\n",
    "        lower = np.round(mean - 2 * std,4)      \n",
    "        CI_put = [lower, upper]\n",
    "        return mean,std,CI_put \n",
    "\n",
    "mean_call,std_call,CI_call = monte_carlo(S,K,T,r,q,sigma,n_simulations, n_steps, option = 'call')\n",
    "mean_put,std_put,CI_put = monte_carlo(S,K,T,r,q,sigma,n_simulations, n_steps, option = 'put')\n",
    "print(f\"mean of call: {mean_call:.4f}\", f\"std of call: {std_call:.4f}\", f\"CI of call: {CI_call}\")\n",
    "print(f\"mean of put: {mean_put:.4f}\", f\"std of call: {std_put:.4f}\", f\"CI of call: {CI_put}\")"
   ]
  },
  {
   "cell_type": "code",
   "execution_count": 3,
   "metadata": {},
   "outputs": [
    {
     "name": "stdout",
     "output_type": "stream",
     "text": [
      "European Call: 9.1696\n",
      "European Put: 17.7882\n",
      "American Call: 9.1696\n",
      "American Put: 17.9983\n"
     ]
    }
   ],
   "source": [
    "N = 100\n",
    "\n",
    "def binomial_tree(S=100, K=102, r=0.05, q=0.02, sigma=0.2, T=1, N=100, option = \"European Call\"):\n",
    "    dt = T/N\n",
    "    u = np.exp( sigma * np.sqrt(dt))\n",
    "    d = np.exp( - sigma * np.sqrt(dt))\n",
    "    p = (np.exp((r - q) * dt) - d) / (u - d)  # risk-neutral probability\n",
    "\n",
    "    #建立股價空間\n",
    "    price_tree = np.zeros((N+1,N+1))\n",
    "    price_tree[0,0] = S\n",
    "\n",
    "    #輸入預期股價\n",
    "    for i in range(1,N+1):\n",
    "        price_tree[i,0] = price_tree[i-1,0] * u\n",
    "        for j in range(1,i+1):\n",
    "            price_tree[i,j] = price_tree[i-1,j-1] * d\n",
    "\n",
    "    if option == \"European Call\":\n",
    "        # Option valuation\n",
    "        option_tree = np.zeros((N+1,N+1))\n",
    "        option_tree[N] = np.maximum(price_tree[N] - K, 0)\n",
    "        #backward induction\n",
    "        for i in range(N-1,-1,-1):\n",
    "            for j in range(0,i+1):\n",
    "                option_tree[i,j] = np.exp(-r * dt) * (p * option_tree[i + 1, j] + (1 - p) * option_tree[i + 1, j+1])\n",
    "        return round(option_tree[0,0],4)\n",
    "    \n",
    "    if option == \"European Put\":\n",
    "        # Option valuation\n",
    "        option_tree = np.zeros((N+1,N+1))\n",
    "        option_tree[N] = np.maximum(K-price_tree[N], 0)\n",
    "        #backward induction\n",
    "        for i in range(N-1,-1,-1):\n",
    "            for j in range(0,i+1):\n",
    "                option_tree[i,j] = np.exp(-r * dt) * (p * option_tree[i + 1, j] + (1 - p) * option_tree[i + 1, j+1])\n",
    "        return round(option_tree[0,0],4)\n",
    "    \n",
    "\n",
    "    if option == \"American Call\":\n",
    "        # Option valuation\n",
    "        option_tree = np.zeros((N+1,N+1))\n",
    "        option_tree[N] = np.maximum(price_tree[N]-K, 0)\n",
    "        #backward induction\n",
    "        for i in range(N-1,-1,-1):\n",
    "            for j in range(0,i+1):\n",
    "                hold = np.exp(-r * dt) * (p * option_tree[i + 1, j] + (1 - p) * option_tree[i + 1, j+1])\n",
    "                exercise = price_tree[i,j]-K\n",
    "                option_tree[i,j] = np.maximum(hold,exercise)\n",
    "        return round(option_tree[0,0],4)\n",
    "    \n",
    "    if option == \"American Put\":\n",
    "        # Option valuation\n",
    "        option_tree = np.zeros((N+1,N+1))\n",
    "        option_tree[N] = np.maximum(K-price_tree[N], 0)\n",
    "        #backward induction\n",
    "        for i in range(N-1,-1,-1):\n",
    "            for j in range(0,i+1):\n",
    "                hold = np.exp(-r * dt) * (p * option_tree[i + 1, j] + (1 - p) * option_tree[i + 1, j+1])\n",
    "                exercise = K-price_tree[i,j]\n",
    "                option_tree[i,j] = np.maximum(hold,exercise)\n",
    "        return round(option_tree[0,0],4)\n",
    "    \n",
    "E_C = binomial_tree(S=S,K=K,r=r,q=q,sigma=sigma,T=T,N=N,option = \"European Call\")\n",
    "E_P = binomial_tree(S=S,K=K,r=r,q=q,sigma=sigma,T=T,N=N,option = \"European Put\")\n",
    "A_C = binomial_tree(S=S,K=K,r=r,q=q,sigma=sigma,T=T,N=N,option = \"American Call\")\n",
    "A_P = binomial_tree(S=S,K=K,r=r,q=q,sigma=sigma,T=T,N=N,option = \"American Put\")\n",
    "\n",
    "print(f\"European Call: {E_C}\")\n",
    "print(f\"European Put: {E_P}\")    \n",
    "print(f\"American Call: {A_C}\")    \n",
    "print(f\"American Put: {A_P}\")    "
   ]
  },
  {
   "cell_type": "code",
   "execution_count": null,
   "metadata": {},
   "outputs": [],
   "source": []
  },
  {
   "cell_type": "code",
   "execution_count": null,
   "metadata": {},
   "outputs": [],
   "source": []
  }
 ],
 "metadata": {
  "kernelspec": {
   "display_name": "Python 3",
   "language": "python",
   "name": "python3"
  },
  "language_info": {
   "codemirror_mode": {
    "name": "ipython",
    "version": 3
   },
   "file_extension": ".py",
   "mimetype": "text/x-python",
   "name": "python",
   "nbconvert_exporter": "python",
   "pygments_lexer": "ipython3",
   "version": "3.10.9"
  }
 },
 "nbformat": 4,
 "nbformat_minor": 2
}
