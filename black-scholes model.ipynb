{
 "cells": [
  {
   "cell_type": "code",
   "execution_count": 13,
   "metadata": {},
   "outputs": [
    {
     "name": "stdout",
     "output_type": "stream",
     "text": [
      "Call price: 12.1272\n"
     ]
    }
   ],
   "source": [
    "from scipy.stats import norm\n",
    "from scipy.stats import t\n",
    "import numpy as np\n",
    "import math\n",
    "\n",
    "S0 = 100\n",
    "r = 0.05\n",
    "q = 0.02\n",
    "T = 0.4\n",
    "sigma = 0.5\n",
    "K1 = 102\n",
    "K2 = 1000000000000000000\n",
    "K3 = 10000000000000000000\n",
    "K4 = 100000000000000000000000\n",
    "\n",
    "\n",
    "\n",
    "def black_scholes(S, r, q, T, K1, K2, K3, K4, sigma):\n",
    "    d11 = (math.log(S0 / K1) + (r - q + 0.5 * sigma ** 2) * T) / (sigma * math.sqrt(T))\n",
    "    d12 = (math.log(S0 / K2) + (r - q + 0.5 * sigma ** 2) * T) / (sigma * math.sqrt(T))\n",
    "    d13 = (math.log(S0 / K3) + (r - q + 0.5 * sigma ** 2) * T) / (sigma * math.sqrt(T))\n",
    "    d14 = (math.log(S0 / K4) + (r - q + 0.5 * sigma ** 2) * T) / (sigma * math.sqrt(T))\n",
    "\n",
    "    d21 = (math.log(S0 / K1) + (r - q - 0.5 * sigma ** 2) * T) / (sigma * math.sqrt(T))\n",
    "    d22 = (math.log(S0 / K2) + (r - q - 0.5 * sigma ** 2) * T) / (sigma * math.sqrt(T))\n",
    "    d23 = (math.log(S0 / K3) + (r - q - 0.5 * sigma ** 2) * T) / (sigma * math.sqrt(T))\n",
    "    d24 = (math.log(S0 / K4) + (r - q - 0.5 * sigma ** 2) * T) / (sigma * math.sqrt(T))\n",
    "\n",
    "    call = (S0 * math.exp(-q*T) * ((norm.cdf(d11)-norm.cdf(d12)) + ((K2-K1)/(K3-K4)) * (norm.cdf(d13)-norm.cdf(d14)))\n",
    "    + math.exp(-r*T) * (-K1*(norm.cdf(d21)-norm.cdf(d23))+K2*(norm.cdf(d22)-norm.cdf(d23))-((K2-K1)/(K3-K4))*K4*(norm.cdf(d23)-norm.cdf(d24))))\n",
    "\n",
    "    return call\n",
    "\n",
    "\n",
    "call_price = black_scholes(S0,r,q,T,K1,K2,K3,K4,sigma)\n",
    "\n",
    "print(f\"Call price: {call_price:.4f}\")"
   ]
  },
  {
   "cell_type": "markdown",
   "metadata": {},
   "source": [
    "Monte-Carlo's simulation"
   ]
  },
  {
   "cell_type": "code",
   "execution_count": 15,
   "metadata": {},
   "outputs": [
    {
     "name": "stdout",
     "output_type": "stream",
     "text": [
      "mean price: 12.2387 std of price: 0.1753 lower bound: 11.8880 upper bound: 12.5894\n"
     ]
    }
   ],
   "source": [
    "import numpy as np\n",
    "\n",
    "# 初始化參數\n",
    "n_simulation = 10000\n",
    "n_steps = 20\n",
    "\n",
    "call_prices = []\n",
    "for _ in range(n_steps):\n",
    "    rn = np.random.normal(0, 1, n_simulation)\n",
    "    ST = S0 * np.exp((r - q - 0.5 * sigma ** 2) * T + sigma * np.sqrt(T) * rn)\n",
    "    payoff = np.where(ST < K2, np.exp(-r*T) * np.maximum(ST - K1, 0),\n",
    "                      np.where(ST < K3, np.exp(-r*T) * (K2 - K1),\n",
    "                               np.where(K3< ST, np.exp(-r*T) * np.maximum(((K2 - K1) / (K3 - K4)) * (ST - K4), 0),0)))\n",
    "    average = np.mean(payoff)\n",
    "    call_prices.append(average)\n",
    "\n",
    "mean = np.mean(call_prices)\n",
    "std = np.std(call_prices)\n",
    "upper = mean + 2 * std\n",
    "lower = mean - 2 * std\n",
    "\n",
    "print(f\"mean price: {mean:.4f}\", f\"std of price: {std:.4f}\", f\"lower bound: {lower:.4f}\", f\"upper bound: {upper:.4f}\")"
   ]
  },
  {
   "cell_type": "code",
   "execution_count": null,
   "metadata": {},
   "outputs": [],
   "source": []
  }
 ],
 "metadata": {
  "kernelspec": {
   "display_name": "Python 3",
   "language": "python",
   "name": "python3"
  },
  "language_info": {
   "codemirror_mode": {
    "name": "ipython",
    "version": 3
   },
   "file_extension": ".py",
   "mimetype": "text/x-python",
   "name": "python",
   "nbconvert_exporter": "python",
   "pygments_lexer": "ipython3",
   "version": "3.10.9"
  }
 },
 "nbformat": 4,
 "nbformat_minor": 2
}
